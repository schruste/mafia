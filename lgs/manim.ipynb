{
 "cells": [
  {
   "cell_type": "code",
   "execution_count": 1,
   "id": "6e6194b4",
   "metadata": {},
   "outputs": [
    {
     "data": {
      "text/html": [
       "<pre style=\"white-space:pre;overflow-x:auto;line-height:normal;font-family:Menlo,'DejaVu Sans Mono',consolas,'Courier New',monospace\">Manim Community <span style=\"color: #008000; text-decoration-color: #008000\">v0.13.1</span>\n",
       "\n",
       "</pre>\n"
      ],
      "text/plain": [
       "Manim Community \u001b[32mv0.\u001b[0m\u001b[32m13.1\u001b[0m\n",
       "\n"
      ]
     },
     "metadata": {},
     "output_type": "display_data"
    }
   ],
   "source": [
    "from manim import *"
   ]
  },
  {
   "cell_type": "code",
   "execution_count": 38,
   "id": "ad33bb04",
   "metadata": {},
   "outputs": [
    {
     "data": {
      "text/html": [
       "<video src=\"media/jupyter/MatrixExamples@2022-01-06@14-22-39.mp4\" controls autoplay loop style=\"max-width: 60%;\"  >\n",
       "      Your browser does not support the <code>video</code> element.\n",
       "    </video>"
      ],
      "text/plain": [
       "<IPython.core.display.Video object>"
      ]
     },
     "metadata": {},
     "output_type": "display_data"
    }
   ],
   "source": [
    "%%manim -v WARNING  --progress_bar None -ql --disable_caching MatrixExamples\n",
    "from manim import *\n",
    "\n",
    "class MatrixExamples(Scene):\n",
    "    def construct(self):\n",
    "        a = [[\"a_{11}\", 0], [-1, 1]]\n",
    "        b = [[\"a_{11}\", 0], [-1, 1]]\n",
    "        c = [[\"c_{11}\", \"c\"], [\"c\", \"c\"]]\n",
    "        \n",
    "        m1 = Matrix(a,\n",
    "            v_buff=1.3,h_buff=0.8,\n",
    "            left_bracket=\"(\",right_bracket=\")\")\n",
    "        m2 = Matrix(b,\n",
    "            v_buff=1.3,h_buff=0.8,\n",
    "            left_bracket=\"(\",right_bracket=\")\")\n",
    "        m2.next_to(m1,RIGHT)\n",
    "        #m3 = Matrix(c,\n",
    "        #    v_buff=1.3,h_buff=0.8,\n",
    "        #    left_bracket=\"(\",right_bracket=\")\")\n",
    "        #m3.add(SurroundingRectangle(m3.get_rows()[j]))\n",
    "        #m3.next_to(m2,RIGHT)\n",
    "        self.add(m1,m2)\n",
    "        \n",
    "        i = 0\n",
    "        j = 0\n",
    "        \n",
    "        mark1 = SurroundingRectangle(m1.get_rows()[i])\n",
    "        mark2 = SurroundingRectangle(m2.get_columns()[j])\n",
    "        \n",
    "        self.play(Create(mark1),Create(mark2))\n",
    "        self.wait(1)\n",
    "        row = a[i]\n",
    "        col = [b[k][j] for k in range(len(b))]\n",
    "        vec1 = Matrix([[r] for r in row],\n",
    "            v_buff=1.3,h_buff=0.8,\n",
    "            left_bracket=\"(\",right_bracket=\")\")\n",
    "        vec1.next_to(m1,DOWN)\n",
    "        vec2 = Matrix([[c] for c in col],\n",
    "            v_buff=1.3,h_buff=0.8,\n",
    "            left_bracket=\"(\",right_bracket=\")\")\n",
    "        vec2.next_to(m2,DOWN)\n",
    "        self.add(vec1,vec2)\n",
    "        self.wait(1)\n",
    "\n",
    "        "
   ]
  },
  {
   "cell_type": "code",
   "execution_count": null,
   "id": "74edcbe8",
   "metadata": {},
   "outputs": [],
   "source": []
  }
 ],
 "metadata": {
  "kernelspec": {
   "display_name": "Python 3",
   "language": "python",
   "name": "python3"
  },
  "language_info": {
   "codemirror_mode": {
    "name": "ipython",
    "version": 3
   },
   "file_extension": ".py",
   "mimetype": "text/x-python",
   "name": "python",
   "nbconvert_exporter": "python",
   "pygments_lexer": "ipython3",
   "version": "3.9.9"
  },
  "toc": {
   "base_numbering": 1,
   "nav_menu": {},
   "number_sections": true,
   "sideBar": true,
   "skip_h1_title": false,
   "title_cell": "Table of Contents",
   "title_sidebar": "Contents",
   "toc_cell": false,
   "toc_position": {},
   "toc_section_display": true,
   "toc_window_display": false
  },
  "varInspector": {
   "cols": {
    "lenName": 16,
    "lenType": 16,
    "lenVar": 40
   },
   "kernels_config": {
    "python": {
     "delete_cmd_postfix": "",
     "delete_cmd_prefix": "del ",
     "library": "var_list.py",
     "varRefreshCmd": "print(var_dic_list())"
    },
    "r": {
     "delete_cmd_postfix": ") ",
     "delete_cmd_prefix": "rm(",
     "library": "var_list.r",
     "varRefreshCmd": "cat(var_dic_list()) "
    }
   },
   "types_to_exclude": [
    "module",
    "function",
    "builtin_function_or_method",
    "instance",
    "_Feature"
   ],
   "window_display": false
  }
 },
 "nbformat": 4,
 "nbformat_minor": 5
}
