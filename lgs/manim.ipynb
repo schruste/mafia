{
 "cells": [
  {
   "cell_type": "code",
   "execution_count": null,
   "id": "56ef7997",
   "metadata": {},
   "outputs": [],
   "source": [
    "from numpy import array\n",
    "from manim import *\n",
    "\n",
    "def Transform(v,A,b):\n",
    "   \n",
    "    res = A @ v[0:2] + b\n",
    "    \n",
    "    return array([res[0],res[1],0.])"
   ]
  },
  {
   "cell_type": "code",
   "execution_count": null,
   "id": "d04c1ead",
   "metadata": {},
   "outputs": [],
   "source": [
    "def do_construct(self,A,b):\n",
    "    w1 = array([1.4,1.,0.])\n",
    "    w2 = array([0.8,-1.4,0.])\n",
    "    w3 = array([-1.,-1.,0.])\n",
    "    dot1 = Dot(point=w1, color = BLUE)\n",
    "    dot2 = Dot(point=w2, color = BLUE)\n",
    "    dot3 = Dot(point=w3, color = BLUE)\n",
    "    #print(help(Dot))\n",
    "\n",
    "    line1 = Line(w1, w2, color = BLUE)\n",
    "    line2 = Line(w2, w3, color = BLUE)\n",
    "    line3 = Line(w3, w1, color = BLUE)\n",
    "\n",
    "    v1 = Transform(w1,A,b)\n",
    "    v2 = Transform(w2,A,b)\n",
    "    v3 = Transform(w3,A,b)\n",
    "\n",
    "    tdot1 = Dot(point=v1, color = RED)\n",
    "    tdot2 = Dot(point=v2, color = RED)\n",
    "    tdot3 = Dot(point=v3, color = RED)\n",
    "\n",
    "    tline1 = Line(v1, v2, color = RED)\n",
    "    tline2 = Line(v2, v3, color = RED)\n",
    "    tline3 = Line(v3, v1, color = RED)\n",
    "\n",
    "\n",
    "    #dot2 = Dot([2,2])\n",
    "    #arrow = Arrow(ORIGIN, [2, 2, 0], buff=0)\n",
    "    numberplane = NumberPlane()\n",
    "    text = Text('('+str(w1[0])+','+str(w1[1])+')', color = BLUE).next_to(dot3, DOWN)\n",
    "    ttext = Text('('+str(v1[0])+','+str(v1[1])+')', color = RED).next_to(tdot3, LEFT)\n",
    "    #tip_text = Text('(2, 2)').next_to(arrow.get_end(), RIGHT)\n",
    "    self.add(numberplane, dot1, dot2, dot3, text) #, tip_text)\n",
    "    self.add(line1,line2,line3)\n",
    "\n",
    "    self.wait()\n",
    "\n",
    "    self.play(FadeIn(tdot1, tdot2, tdot3, ttext, tline1,tline2,tline3))\n",
    "    self.wait()\n"
   ]
  },
  {
   "cell_type": "code",
   "execution_count": null,
   "id": "4c97ff5f",
   "metadata": {},
   "outputs": [],
   "source": [
    "A = array([[2,0],[0,2]])\n",
    "\n",
    "b = array([1,1])   "
   ]
  },
  {
   "cell_type": "code",
   "execution_count": null,
   "id": "648b1bf3",
   "metadata": {},
   "outputs": [],
   "source": [
    "%%manim -v WARNING  --progress_bar None -ql --disable_caching VectorArrow\n",
    "class VectorArrow(Scene):\n",
    "    def construct(self):\n",
    "        do_construct(self,A,b)"
   ]
  }
 ],
 "metadata": {
  "kernelspec": {
   "display_name": "Python 3",
   "language": "python",
   "name": "python3"
  },
  "language_info": {
   "codemirror_mode": {
    "name": "ipython",
    "version": 3
   },
   "file_extension": ".py",
   "mimetype": "text/x-python",
   "name": "python",
   "nbconvert_exporter": "python",
   "pygments_lexer": "ipython3",
   "version": "3.10.4"
  },
  "toc": {
   "base_numbering": 1,
   "nav_menu": {},
   "number_sections": true,
   "sideBar": true,
   "skip_h1_title": false,
   "title_cell": "Table of Contents",
   "title_sidebar": "Contents",
   "toc_cell": false,
   "toc_position": {},
   "toc_section_display": true,
   "toc_window_display": false
  },
  "varInspector": {
   "cols": {
    "lenName": 16,
    "lenType": 16,
    "lenVar": 40
   },
   "kernels_config": {
    "python": {
     "delete_cmd_postfix": "",
     "delete_cmd_prefix": "del ",
     "library": "var_list.py",
     "varRefreshCmd": "print(var_dic_list())"
    },
    "r": {
     "delete_cmd_postfix": ") ",
     "delete_cmd_prefix": "rm(",
     "library": "var_list.r",
     "varRefreshCmd": "cat(var_dic_list()) "
    }
   },
   "types_to_exclude": [
    "module",
    "function",
    "builtin_function_or_method",
    "instance",
    "_Feature"
   ],
   "window_display": false
  }
 },
 "nbformat": 4,
 "nbformat_minor": 5
}
