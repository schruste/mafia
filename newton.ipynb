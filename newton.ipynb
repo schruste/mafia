{
 "cells": [
  {
   "cell_type": "markdown",
   "id": "dce8721f",
   "metadata": {},
   "source": [
    "# Newton für Funktionen einer Veränderlichen"
   ]
  },
  {
   "cell_type": "code",
   "execution_count": null,
   "id": "716b34eb",
   "metadata": {},
   "outputs": [],
   "source": [
    "a = 3\n",
    "def f1(x):\n",
    "    return x**2 - a\n",
    "\n",
    "def df1(x):\n",
    "    return 2*x"
   ]
  },
  {
   "cell_type": "code",
   "execution_count": null,
   "id": "c76e5788",
   "metadata": {},
   "outputs": [],
   "source": [
    "import numpy as np\n",
    "import matplotlib.pyplot as plt\n",
    "plt.rcParams[\"figure.figsize\"] = (12,7)"
   ]
  },
  {
   "cell_type": "code",
   "execution_count": null,
   "id": "0c1655ab",
   "metadata": {},
   "outputs": [],
   "source": [
    "def NewtonIteration(f,df,x0,niter,plotting=False,xsamples=None):\n",
    "    #initialization\n",
    "    x = x0\n",
    "    fx = f(x)\n",
    "    \n",
    "    # plotting:\n",
    "    if plotting:\n",
    "        ysamples = f(xsamples)\n",
    "        plt.grid(True, which='both')\n",
    "        plt.axhline(y=0, color='k',lw=3)\n",
    "        plt.plot(xsamples, ysamples, label='f(x)',lw=3)\n",
    "        plt.show()\n",
    "    \n",
    "    # initial output\n",
    "    print(f\"iter {0:02}: x{0:02} = {x:9.4e}, |f(x{0:02})| = {fx:9.4e}\")\n",
    "    \n",
    "    for iter in range(niter):\n",
    "        # newton step (but no update yet)\n",
    "        dfx = df(x)\n",
    "        dx = -fx/dfx\n",
    "        xnew = x + dx\n",
    "        \n",
    "        # plotting:\n",
    "        if plotting:\n",
    "            xsamples = np.linspace(x-0.5*dx,xnew+0.5*dx)\n",
    "            gsamples = fx + dfx * (xsamples - x)\n",
    "            ysamples = f(xsamples)\n",
    "            plt.grid(True, which='both')\n",
    "            plt.axhline(y=0, color='k',lw=3)\n",
    "            plt.plot(xsamples, ysamples, label='f(x)',lw=3)\n",
    "            plt.plot(xsamples, gsamples, label=f'g{iter:02}(x)',lw=3)\n",
    "        \n",
    "            plt.plot([x,xnew], [fx,0], 'ro')\n",
    "            plt.show()\n",
    "        \n",
    "        # update\n",
    "        x = xnew\n",
    "        fx = f(x)\n",
    "        \n",
    "        # output\n",
    "        print(f\"iter {iter:02}: x{iter:02} = {x:9.4e}, |f(x{iter:02})| = {fx:9.4e}\")\n",
    "        if abs(fx) < 1e-15:\n",
    "            break\n",
    "    return x"
   ]
  },
  {
   "cell_type": "code",
   "execution_count": null,
   "id": "64a5e6ff",
   "metadata": {
    "scrolled": false
   },
   "outputs": [],
   "source": [
    "NewtonIteration(f1,df1,5,10,plotting=True,xsamples=np.linspace(0,10,100))"
   ]
  },
  {
   "cell_type": "markdown",
   "id": "1648df83",
   "metadata": {},
   "source": [
    "## Beispiel für [Nicht-Konvergenz des Newton-Verfahrens](https://de.wikipedia.org/wiki/Newtonverfahren#Beispiele_f.C3.BCr_Nicht-Konvergenz)"
   ]
  },
  {
   "cell_type": "code",
   "execution_count": null,
   "id": "8f75ab02",
   "metadata": {},
   "outputs": [],
   "source": [
    "from numpy import sin, cos\n",
    "def f2(x):\n",
    "    return x**3-2*x+2\n",
    "\n",
    "def df2(x):\n",
    "    return 3*x**2-2"
   ]
  },
  {
   "cell_type": "code",
   "execution_count": null,
   "id": "8858ae7a",
   "metadata": {
    "scrolled": false
   },
   "outputs": [],
   "source": [
    "NewtonIteration(f2,df2,x0=0,niter=10,plotting=True,xsamples=np.linspace(-3,3,100))"
   ]
  },
  {
   "cell_type": "code",
   "execution_count": null,
   "id": "179e0f5b",
   "metadata": {},
   "outputs": [],
   "source": [
    "NewtonIteration(f2,df2,x0=-1,niter=10,plotting=True,xsamples=np.linspace(-3,3,100))"
   ]
  }
 ],
 "metadata": {
  "kernelspec": {
   "display_name": "Python 3 (ipykernel)",
   "language": "python",
   "name": "python3"
  },
  "language_info": {
   "codemirror_mode": {
    "name": "ipython",
    "version": 3
   },
   "file_extension": ".py",
   "mimetype": "text/x-python",
   "name": "python",
   "nbconvert_exporter": "python",
   "pygments_lexer": "ipython3",
   "version": "3.10.5"
  },
  "toc": {
   "base_numbering": 1,
   "nav_menu": {},
   "number_sections": true,
   "sideBar": true,
   "skip_h1_title": false,
   "title_cell": "Table of Contents",
   "title_sidebar": "Contents",
   "toc_cell": false,
   "toc_position": {},
   "toc_section_display": true,
   "toc_window_display": false
  }
 },
 "nbformat": 4,
 "nbformat_minor": 5
}
